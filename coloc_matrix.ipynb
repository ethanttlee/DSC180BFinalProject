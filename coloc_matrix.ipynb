{
 "cells": [
  {
   "cell_type": "code",
   "execution_count": 1,
   "id": "295f4d25",
   "metadata": {},
   "outputs": [
    {
     "name": "stderr",
     "output_type": "stream",
     "text": [
      "This is coloc version 5.2.3\n",
      "\n"
     ]
    }
   ],
   "source": [
    "#install.packages(\"coloc\")\n",
    "library(coloc)"
   ]
  },
  {
   "cell_type": "code",
   "execution_count": 2,
   "id": "9844a476",
   "metadata": {},
   "outputs": [],
   "source": [
    "error_file_path <- \"coloc_error_log.txt\"\n",
    "\n",
    "disease_list <- c(\"essential_hypertension\", \"abdominal_hernia\", \"hyperlipidemia\", \"osteoarthrosis\", \"cardiac_dysrhythmias\", \"asthma\", \"cataract\", \"coronary_atherosclerosis\", \"type_2_diabetes\", \"parkinsons_disease\", \"alzheimers_disease\", \"schizophrenia\")\n",
    "# from https://www.ebi.ac.uk/gwas/publications/32589924\n",
    "disease_files <- c(\"https://ftp.ebi.ac.uk/pub/databases/gwas/summary_statistics/GCST010001-GCST011000/GCST010774/GCST010774_buildGRCh37.tsv\",\n",
    "                   \"https://ftp.ebi.ac.uk/pub/databases/gwas/summary_statistics/GCST010001-GCST011000/GCST010773/GCST010773_buildGRCh37.tsv\",\n",
    "                   \"https://ftp.ebi.ac.uk/pub/databases/gwas/summary_statistics/GCST010001-GCST011000/GCST010772/GCST010772_buildGRCh37.tsv\",\n",
    "                   \"https://ftp.ebi.ac.uk/pub/databases/gwas/summary_statistics/GCST010001-GCST011000/GCST010771/GCST010771_buildGRCh37.tsv\",\n",
    "                   \"https://ftp.ebi.ac.uk/pub/databases/gwas/summary_statistics/GCST010001-GCST011000/GCST010770/GCST010770_buildGRCh37.tsv\",\n",
    "                   \"https://ftp.ebi.ac.uk/pub/databases/gwas/summary_statistics/GCST010001-GCST011000/GCST010769/GCST010769_buildGRCh37.tsv\",\n",
    "                   \"https://ftp.ebi.ac.uk/pub/databases/gwas/summary_statistics/GCST010001-GCST011000/GCST010768/GCST010768_buildGRCh37.tsv\",\n",
    "                   \"https://ftp.ebi.ac.uk/pub/databases/gwas/summary_statistics/GCST010001-GCST011000/GCST010767/GCST010767_buildGRCh37.tsv\",\n",
    "                   \"https://ftp.ebi.ac.uk/pub/databases/gwas/summary_statistics/GCST010001-GCST011000/GCST010766/GCST010766_buildGRCh37.tsv\",\n",
    "                   \"https://ftp.ebi.ac.uk/pub/databases/gwas/summary_statistics/GCST010001-GCST011000/GCST010765/GCST010765_buildGRCh37.tsv\",\n",
    "                   \"https://ftp.ebi.ac.uk/pub/databases/gwas/summary_statistics/GCST010001-GCST011000/GCST010764/GCST010764_buildGRCh37.tsv\",\n",
    "                   \"https://ftp.ebi.ac.uk/pub/databases/gwas/summary_statistics/GCST010001-GCST011000/GCST010763/GCST010763_buildGRCh37.tsv\")\n",
    "sample_sizes <- rep(282871, 12)\n",
    "case_control_props <- c(0.271, 0.0154, 0.1259, 0.1028, 0.0904, 0.0085, 0.0800, 0.0674, 0.0656, 0.0048, 0.0023, 0.0019)\n",
    "\n",
    "# from 1000G gene expression data\n",
    "eQTL_files <- list.files(path=\"eQTL_subsets\", pattern='ENSG.*', full.names = TRUE)\n",
    "\n",
    "result_matrix <- list()"
   ]
  },
  {
   "cell_type": "code",
   "execution_count": 60,
   "id": "821141df",
   "metadata": {},
   "outputs": [
    {
     "name": "stdout",
     "output_type": "stream",
     "text": [
      "[1] \"essential_hypertension\"\n"
     ]
    },
    {
     "name": "stderr",
     "output_type": "stream",
     "text": [
      "Warning message in check_dataset(gwas_list):\n",
      "“minimum p value is: 0.00011248\n",
      "If this is what you expected, this is not a problem.\n",
      "If this is not as small as you expected, please check you supplied var(beta) and not sd(beta) for the varbeta argument. If that's not the explanation, please check the 02_data vignette.”\n",
      "Warning message in check_dataset(d = dataset1, 1):\n",
      "“minimum p value is: 0.00011248\n",
      "If this is what you expected, this is not a problem.\n",
      "If this is not as small as you expected, please check you supplied var(beta) and not sd(beta) for the varbeta argument. If that's not the explanation, please check the 02_data vignette.”\n",
      "Warning message in adjust_prior(p1, nrow(df1), \"1\"):\n",
      "“p1 * nsnps >= 1, setting p1=1/(nsnps + 1)”\n"
     ]
    },
    {
     "ename": "ERROR",
     "evalue": "Error in coloc.abf(gwas_list, eQTL_list): dataset1 and dataset2 should contain the same snps in the same order, or should contain snp names through which the common snps can be identified\n",
     "output_type": "error",
     "traceback": [
      "Error in coloc.abf(gwas_list, eQTL_list): dataset1 and dataset2 should contain the same snps in the same order, or should contain snp names through which the common snps can be identified\nTraceback:\n",
      "1. coloc.abf(gwas_list, eQTL_list)",
      "2. stop(\"dataset1 and dataset2 should contain the same snps in the same order, or should contain snp names through which the common snps can be identified\")"
     ]
    }
   ],
   "source": [
    "for (i in 1:length(disease_files)) {\n",
    "    print(disease_list[i])\n",
    "    \n",
    "    curr_results <- list()\n",
    "    \n",
    "    #download current gwas file\n",
    "    system2(command = \"curl\", \n",
    "        args    = c(disease_files[i]), \n",
    "        stdout  = paste(\"gwas_data/\",disease_list[i],\".tsv\", sep=\"\", collapse=\"\"))\n",
    "    \n",
    "    curr_gwas <- na.omit(read.csv(paste(\"gwas_data/\",disease_list[i],\".tsv\", sep=\"\", collapse=\"\"), \n",
    "                                  sep = '\\t', header = TRUE,\n",
    "                                  colClasses = c(\"character\", \"double\", \"NULL\", \"double\", \"NULL\",\n",
    "                                            \"NULL\", \"double\", \"NULL\", \"NULL\", \"NULL\",\n",
    "                                            \"NULL\", \"NULL\", \"NULL\", \"NULL\", \"NULL\",\n",
    "                                        \"NULL\", \"NULL\", \"NULL\", \"NULL\")))\n",
    "    #remove duplicate snps\n",
    "    curr_gwas <- curr_gwas[!duplicated(curr_gwas[,c(\"variant_id\")]),]\n",
    "    \n",
    "    gwas_list <- list()\n",
    "    gwas_list$MAF <- curr_gwas$MAF_calculated_from_dosage_data\n",
    "    gwas_list$snp <- curr_gwas$variant_id\n",
    "    gwas_list$position <- curr_gwas$base_pair_location\n",
    "    gwas_list$N <- sample_sizes[i]\n",
    "    gwas_list$pvalues <- curr_gwas$p_value\n",
    "    gwas_list$type <- \"cc\"\n",
    "    gwas_list$s <- case_control_props[i]\n",
    "    \n",
    "    if (!is.null(check_dataset(gwas_list))) {\n",
    "        error_message <- paste(\"Error: disease file \", disease_list[i], \" has error: \\n \", check_dataset(gwas_list), sep=\"\", collapse=\"\")\n",
    "        cat(error_message, file = error_file_path, append = TRUE)\n",
    "    }\n",
    "\n",
    "    #print(paste(\"Processed disease file \", disease_files[i], sep=\"\", collapse=\"\"))\n",
    "    \n",
    "    \n",
    "    num_files <- length(eQTL_files)\n",
    "    counter <- 0\n",
    "    \n",
    "    for (eQTL_file in eQTL_files) {\n",
    "        eQTL_data <- read.csv(eQTL_file)\n",
    "        \n",
    "        eQTL_list <- list()\n",
    "        eQTL_list$beta <- eQTL_data$beta\n",
    "        eQTL_list$varbeta <- eQTL_data$varbeta\n",
    "        eQTL_list$snp <- eQTL_data$snp\n",
    "        eQTL_list$position <- eQTL_data$pos\n",
    "        eQTL_list$type <- eQTL_data[, 'type'][1]\n",
    "        eQTL_list$N <- eQTL_data$N[0]\n",
    "        eQTL_list$MAF <- eQTL_data$MAF\n",
    "\n",
    "        if (!is.null(check_dataset(eQTL_list))) {\n",
    "            error_message <- paste(\"Error: eQTL file \", eQTL_file, \" has error: \\n \", check_dataset(gwas_list), sep=\"\", collapse=\"\")\n",
    "            cat(error_message, file = error_file_path, append = TRUE)\n",
    "        }\n",
    "        \n",
    "        \n",
    "        coloc_results <- coloc.abf(gwas_list, eQTL_list)\n",
    "    \n",
    "        curr_results <- append(curr_results, coloc_results$summary[[6]])\n",
    "\n",
    "        counter <- counter + 1\n",
    "        \n",
    "        print(paste(\"Processed \", counter/num_files, \" eQTL files\", sep=\"\", collapse=\"\"))\n",
    "    \n",
    "    }\n",
    "    \n",
    "    result_matrix[[disease_list[[i]]]] <- curr_results\n",
    "    \n",
    "    #remove file for storage space\n",
    "    system2(command = \"rm\", \n",
    "        args    = c(disease_list[i]+\".tsv\"), \n",
    "        stdout  = paste(\"gwas_data/\",disease_list[i],\".tsv\", sep=\"\", collapse=\"\"))\n",
    "    \n",
    "}\n",
    "\n",
    "result_frame <- t(data.frame(unlist(result_matrix)))\n",
    "colnames(result_frame) <- list.files(path=\"/Users/johndriscoll/Downloads/180B/DSC180BFinalProject/eQTL_subsets\", pattern='ENSG.*', full.names = FALSE)\n",
    "rownames(result_frame) <- c('essential_hypertension')\n",
    "\n",
    "write.csv(result_frame, \"coloc_matrix.csv\")\n"
   ]
  },
  {
   "cell_type": "markdown",
   "id": "542b95d6",
   "metadata": {},
   "source": [
    "\n"
   ]
  }
 ],
 "metadata": {
  "jupytext": {
   "cell_metadata_filter": "-all",
   "main_language": "R",
   "notebook_metadata_filter": "-all"
  },
  "kernelspec": {
   "display_name": "R",
   "language": "R",
   "name": "ir"
  },
  "language_info": {
   "codemirror_mode": "r",
   "file_extension": ".r",
   "mimetype": "text/x-r-source",
   "name": "R",
   "pygments_lexer": "r",
   "version": "4.1.0"
  }
 },
 "nbformat": 4,
 "nbformat_minor": 5
}
