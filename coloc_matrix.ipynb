{
 "cells": [
  {
   "cell_type": "raw",
   "id": "b1a1986d",
   "metadata": {},
   "source": [
    "---\n",
    "title: \"coloc matrix\"\n",
    "output: html_notebook\n",
    "---"
   ]
  },
  {
   "cell_type": "code",
   "execution_count": null,
   "id": "295f4d25",
   "metadata": {},
   "outputs": [],
   "source": [
    "#install.packages(\"coloc\")\n",
    "library(coloc)"
   ]
  },
  {
   "cell_type": "code",
   "execution_count": null,
   "id": "9844a476",
   "metadata": {},
   "outputs": [],
   "source": [
    "disease_list <- c(\"Essential hypertension\", \"Abdominal hernia\", \"Hyperlipidemia\", \"Osteoarthrosis\", \"Cardiac dysrhythmias\", \"Asthma\", \"Cataract\", \"Coronary atherosclerosis\", \"Type 2 diabetes\", \"Parkinson's disease\", \"Alzheimer's disease\", \"Schizophrenia\")\n",
    "# from https://www.ebi.ac.uk/gwas/publications/32589924\n",
    "disease_files <- c(\"/Users/johndriscoll/Downloads/180B/essential_hypertension.tsv\")\n",
    "sample_sizes <- c(282871)\n",
    "case_control_props <- c(0.271)\n",
    "\n",
    "# from 1000G gene expression data\n",
    "eQTL_files <- list.files(path=\"/Users/johndriscoll/Downloads/180B/DSC180BFinalProject/eQTL_subsets/\", pattern='ENSG.*', full.names = TRUE)\n",
    "\n",
    "result_matrix <- list()"
   ]
  },
  {
   "cell_type": "code",
   "execution_count": null,
   "id": "821141df",
   "metadata": {},
   "outputs": [],
   "source": [
    "sample_sizes[1]"
   ]
  },
  {
   "cell_type": "code",
   "execution_count": null,
   "id": "f0dde329",
   "metadata": {},
   "outputs": [],
   "source": [
    "disease_num <- 0\n",
    "for (disease_file in disease_files) {\n",
    "  \n",
    "  curr_gwas <- na.omit(read.table(disease_file, sep = '\\t', header = TRUE))\n",
    "  curr_results <- list()\n",
    "\n",
    "  gwas_list <- list()\n",
    "  gwas_list$MAF <- curr_gwas$MAF_calculated_from_dosage_data\n",
    "  gwas_list$snp <- curr_gwas$variant_id\n",
    "  gwas_list$position <- curr_gwas$base_pair_location\n",
    "  gwas_list$N <- sample_sizes[disease_num + 1]\n",
    "  gwas_list$pvalues <- curr_gwas$p_value\n",
    "  gwas_list$type <- \"cc\"\n",
    "  gwas_list$s <- case_control_props[disease_num + 1]\n",
    "  gwas_list <- gwas_list[complete.cases(gwas_list[ , (2)])]\n",
    "  \n",
    "  check_dataset(gwas_list)\n",
    "  print(\"Processed disease file \" + disease_file)\n",
    "\n",
    "  num_files <- length(eQTL_files)\n",
    "  counter <- 0\n",
    "  for (eQTL_file in eQTL_files) {\n",
    "    eQTL_data <- read.csv(eQTL_file)\n",
    "    eQTL_list <- list()\n",
    "    eQTL_list$beta <- eQTL_data$beta\n",
    "    eQTL_list$varbeta <- eQTL_data$varbeta\n",
    "    eQTL_list$snp <- eQTL_data$snp\n",
    "    eQTL_list$position <- eQTL_data$pos\n",
    "    eQTL_list$type <- eQTL_data[, 'type'][1]\n",
    "    eQTL_list$N <- eQTL_data$N[0]\n",
    "    eQTL_list$MAF <- eQTL_data$MAF\n",
    "    \n",
    "    check_dataset(eQTL_list)\n",
    "    \n",
    "    coloc_results <- coloc.abf(gwas_list, eQTL_list)\n",
    "    \n",
    "    curr_results <- append(curr_results, coloc_results$summary[[6]])\n",
    "    \n",
    "    counter <- counter + 1\n",
    "    \n",
    "    print(\"Processed eQTL_file \" + eQTL_file)\n",
    "    \n",
    "    break\n",
    "  }\n",
    "  \n",
    "  result_matrix[[disease_list[[disease_num + 1]]]] <- curr_results\n",
    "  disease_num <- disease_num + 1\n",
    "  \n",
    "}"
   ]
  },
  {
   "cell_type": "code",
   "execution_count": null,
   "id": "b815fa05",
   "metadata": {
    "lines_to_next_cell": 0
   },
   "outputs": [],
   "source": [
    "capture.output(result_matrix, file=\"hypertension_eQTL_matrix.csv\")"
   ]
  },
  {
   "cell_type": "markdown",
   "id": "542b95d6",
   "metadata": {},
   "source": [
    "\n"
   ]
  }
 ],
 "metadata": {
  "jupytext": {
   "cell_metadata_filter": "-all",
   "main_language": "R",
   "notebook_metadata_filter": "-all"
  }
 },
 "nbformat": 4,
 "nbformat_minor": 5
}
