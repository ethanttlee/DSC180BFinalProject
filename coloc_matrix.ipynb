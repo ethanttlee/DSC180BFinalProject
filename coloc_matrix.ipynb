{
 "cells": [
  {
   "cell_type": "raw",
   "id": "b1a1986d",
   "metadata": {},
   "source": [
    "---\n",
    "title: \"coloc matrix\"\n",
    "output: html_notebook\n",
    "---"
   ]
  },
  {
   "cell_type": "code",
   "execution_count": 1,
   "id": "295f4d25",
   "metadata": {},
   "outputs": [
    {
     "name": "stderr",
     "output_type": "stream",
     "text": [
      "This is coloc version 5.2.3\n",
      "\n"
     ]
    }
   ],
   "source": [
    "#install.packages(\"coloc\")\n",
    "library(coloc)"
   ]
  },
  {
   "cell_type": "code",
   "execution_count": 14,
   "id": "9844a476",
   "metadata": {},
   "outputs": [],
   "source": [
    "disease_list <- c(\"Essential hypertension\", \"Abdominal hernia\", \"Hyperlipidemia\", \"Osteoarthrosis\", \"Cardiac dysrhythmias\", \"Asthma\", \"Cataract\", \"Coronary atherosclerosis\", \"Type 2 diabetes\", \"Parkinson's disease\", \"Alzheimer's disease\", \"Schizophrenia\")\n",
    "# from https://www.ebi.ac.uk/gwas/publications/32589924\n",
    "disease_files <- c(\"https://ftp.ebi.ac.uk/pub/databases/gwas/summary_statistics/GCST010001-GCST011000/GCST010774/GCST010774_buildGRCh37.tsv\")\n",
    "sample_sizes <- c(282871)\n",
    "case_control_props <- c(0.271)\n",
    "\n",
    "# from 1000G gene expression data\n",
    "eQTL_files <- list.files(path=\"eQTL_subsets\", pattern='ENSG.*', full.names = TRUE)\n",
    "\n",
    "result_matrix <- list()"
   ]
  },
  {
   "cell_type": "code",
   "execution_count": 20,
   "id": "821141df",
   "metadata": {},
   "outputs": [
    {
     "name": "stderr",
     "output_type": "stream",
     "text": [
      "Warning message in scan(file = file, what = what, sep = sep, quote = quote, dec = dec, :\n",
      "“URL 'https://ftp.ebi.ac.uk/pub/databases/gwas/summary_statistics/GCST010001-GCST011000/GCST010774/GCST010774_buildGRCh37.tsv': Timeout of 60 seconds was reached”\n"
     ]
    },
    {
     "ename": "ERROR",
     "evalue": "Error in scan(file = file, what = what, sep = sep, quote = quote, dec = dec, : cannot read from connection\n",
     "output_type": "error",
     "traceback": [
      "Error in scan(file = file, what = what, sep = sep, quote = quote, dec = dec, : cannot read from connection\nTraceback:\n",
      "1. na.omit(read.csv(disease_file, sep = \"\\t\", header = TRUE))",
      "2. read.csv(disease_file, sep = \"\\t\", header = TRUE)",
      "3. read.table(file = file, header = header, sep = sep, quote = quote, \n .     dec = dec, fill = fill, comment.char = comment.char, ...)",
      "4. scan(file = file, what = what, sep = sep, quote = quote, dec = dec, \n .     nmax = nrows, skip = 0, na.strings = na.strings, quiet = TRUE, \n .     fill = fill, strip.white = strip.white, blank.lines.skip = blank.lines.skip, \n .     multi.line = FALSE, comment.char = comment.char, allowEscapes = allowEscapes, \n .     flush = flush, encoding = encoding, skipNul = skipNul)"
     ]
    }
   ],
   "source": [
    "for (disease_file in disease_files) {\n",
    "    curr_gwas <- na.omit(read.csv(disease_file, sep = '\\t', header = TRUE))\n",
    "}"
   ]
  },
  {
   "cell_type": "code",
   "execution_count": null,
   "id": "1c5437ba",
   "metadata": {},
   "outputs": [],
   "source": [
    "curr_gwas"
   ]
  },
  {
   "cell_type": "code",
   "execution_count": null,
   "id": "f0dde329",
   "metadata": {},
   "outputs": [],
   "source": [
    "disease_num <- 0\n",
    "for (disease_file in disease_files) {\n",
    "  \n",
    "  curr_gwas <- na.omit(read.table(url(disease_file), sep = '\\t', header = TRUE))\n",
    "  curr_results <- list()\n",
    "\n",
    "  gwas_list <- list()\n",
    "  gwas_list$MAF <- curr_gwas$MAF_calculated_from_dosage_data\n",
    "  gwas_list$snp <- curr_gwas$variant_id\n",
    "  gwas_list$position <- curr_gwas$base_pair_location\n",
    "  gwas_list$N <- sample_sizes[disease_num + 1]\n",
    "  gwas_list$pvalues <- curr_gwas$p_value\n",
    "  gwas_list$type <- \"cc\"\n",
    "  gwas_list$s <- case_control_props[disease_num + 1]\n",
    "  gwas_list <- gwas_list[complete.cases(gwas_list[ , (2)])]\n",
    "  \n",
    "  check_dataset(gwas_list)\n",
    "  print(\"Processed disease file \" + disease_file)\n",
    "\n",
    "  num_files <- length(eQTL_files)\n",
    "  counter <- 0\n",
    "  for (eQTL_file in eQTL_files) {\n",
    "    eQTL_data <- read.csv(eQTL_file)\n",
    "    eQTL_list <- list()\n",
    "    eQTL_list$beta <- eQTL_data$beta\n",
    "    eQTL_list$varbeta <- eQTL_data$varbeta\n",
    "    eQTL_list$snp <- eQTL_data$snp\n",
    "    eQTL_list$position <- eQTL_data$pos\n",
    "    eQTL_list$type <- eQTL_data[, 'type'][1]\n",
    "    eQTL_list$N <- eQTL_data$N[0]\n",
    "    eQTL_list$MAF <- eQTL_data$MAF\n",
    "    \n",
    "    check_dataset(eQTL_list)\n",
    "    \n",
    "    coloc_results <- coloc.abf(gwas_list, eQTL_list)\n",
    "    \n",
    "    curr_results <- append(curr_results, coloc_results$summary[[6]])\n",
    "    \n",
    "    counter <- counter + 1\n",
    "    \n",
    "    print(\"Processed eQTL_file \" + eQTL_file)\n",
    "    \n",
    "    break\n",
    "  }\n",
    "  \n",
    "  result_matrix[[disease_list[[disease_num + 1]]]] <- curr_results\n",
    "  disease_num <- disease_num + 1\n",
    "  \n",
    "}"
   ]
  },
  {
   "cell_type": "code",
   "execution_count": null,
   "id": "b815fa05",
   "metadata": {
    "lines_to_next_cell": 0
   },
   "outputs": [],
   "source": [
    "capture.output(result_matrix, file=\"hypertension_eQTL_matrix.csv\")"
   ]
  },
  {
   "cell_type": "markdown",
   "id": "542b95d6",
   "metadata": {},
   "source": [
    "\n"
   ]
  }
 ],
 "metadata": {
  "jupytext": {
   "cell_metadata_filter": "-all",
   "main_language": "R",
   "notebook_metadata_filter": "-all"
  },
  "kernelspec": {
   "display_name": "R",
   "language": "R",
   "name": "ir"
  },
  "language_info": {
   "codemirror_mode": "r",
   "file_extension": ".r",
   "mimetype": "text/x-r-source",
   "name": "R",
   "pygments_lexer": "r",
   "version": "4.1.0"
  }
 },
 "nbformat": 4,
 "nbformat_minor": 5
}
