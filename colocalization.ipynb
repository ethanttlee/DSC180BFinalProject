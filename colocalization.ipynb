{
 "cells": [
  {
   "cell_type": "code",
   "execution_count": null,
   "id": "3be5f9d9",
   "metadata": {},
   "outputs": [],
   "source": [
    "install.packages(\"coloc\")"
   ]
  },
  {
   "cell_type": "code",
   "execution_count": null,
   "id": "39032887",
   "metadata": {},
   "outputs": [],
   "source": [
    "install.packages(\"rlang\")"
   ]
  },
  {
   "cell_type": "code",
   "execution_count": null,
   "id": "d5ec09a5",
   "metadata": {},
   "outputs": [],
   "source": [
    "library(coloc)"
   ]
  },
  {
   "cell_type": "code",
   "execution_count": null,
   "id": "82f4d5bd",
   "metadata": {},
   "outputs": [],
   "source": [
    "# Set the disease information\n",
    "# This section is not automated due to the large size of the files\n",
    "# Be sure to replace 'disease' with the file of interest\n",
    "disease <- \"CoronaryAtherosclerosis\"\n",
    "disease_file <- \"CoronaryAtherosclerosis.tsv\"\n",
    "sample_size <- 282871\n",
    "case_control_prop <- 0.271\n",
    "eQTL_files <- list.files(path=\"eQTL_subsets\", pattern='ENSG.*', full.names = TRUE)"
   ]
  },
  {
   "cell_type": "code",
   "execution_count": null,
   "id": "13d74814",
   "metadata": {},
   "outputs": [],
   "source": [
    "error_file_path <- \"coloc_error_log.txt\"\n",
    "result_matrix <- list()\n",
    "\n",
    "# Read the GWAS data for the first disease\n",
    "# Same applies here, replace the file with the file of interest\n",
    "curr_gwas <- na.omit(read.csv(paste(\"CoronaryAtherosclerosis.tsv\", sep = \"\"), \n",
    "                              sep = '\\t', header = TRUE,\n",
    "                              colClasses = c(\"character\", \"double\", \"NULL\", \"double\", \"NULL\",\n",
    "                                             \"NULL\", \"double\", \"NULL\", \"NULL\", \"NULL\",\n",
    "                                             \"NULL\", \"NULL\", \"NULL\", \"NULL\", \"NULL\",\n",
    "                                             \"NULL\", \"NULL\", \"NULL\", \"NULL\")))"
   ]
  },
  {
   "cell_type": "code",
   "execution_count": null,
   "id": "fdd82536",
   "metadata": {},
   "outputs": [],
   "source": [
    "# Remove duplicate SNPs\n",
    "curr_gwas <- curr_gwas[!duplicated(curr_gwas[, \"variant_id\"]), ]"
   ]
  },
  {
   "cell_type": "code",
   "execution_count": null,
   "id": "147bd0fb",
   "metadata": {},
   "outputs": [],
   "source": [
    "print(nrow(curr_gwas))"
   ]
  },
  {
   "cell_type": "code",
   "execution_count": null,
   "id": "9f3ca484",
   "metadata": {},
   "outputs": [],
   "source": [
    "# Genome-wide significance threshold\n",
    "p_value_threshold <- 5e-2\n",
    "\n",
    "# Filter the dataframe\n",
    "filtered_gwas <- curr_gwas[curr_gwas$p_value < p_value_threshold, ]"
   ]
  },
  {
   "cell_type": "code",
   "execution_count": null,
   "id": "a5dd7efb",
   "metadata": {},
   "outputs": [],
   "source": [
    "print(nrow(filtered_gwas))"
   ]
  },
  {
   "cell_type": "code",
   "execution_count": null,
   "id": "00e9e9bc",
   "metadata": {},
   "outputs": [],
   "source": [
    "# Prepare the GWAS list\n",
    "gwas_list <- list()\n",
    "gwas_list$MAF <- filtered_gwas$MAF_calculated_from_dosage_data\n",
    "gwas_list$snp <- filtered_gwas$variant_id\n",
    "gwas_list$position <- filtered_gwas$base_pair_location\n",
    "gwas_list$N <- sample_size\n",
    "gwas_list$pvalues <- filtered_gwas$p_value\n",
    "gwas_list$type <- \"cc\"\n",
    "gwas_list$s <- case_control_prop"
   ]
  },
  {
   "cell_type": "code",
   "execution_count": null,
   "id": "3bd5d387",
   "metadata": {},
   "outputs": [],
   "source": [
    "results_df <- data.frame(\n",
    "  gene_name = character(),\n",
    "  nsnps = numeric(),\n",
    "  PP_H0_abf = numeric(),\n",
    "  PP_H1_abf = numeric(),\n",
    "  PP_H2_abf = numeric(),\n",
    "  PP_H3_abf = numeric(),\n",
    "  PP_H4_abf = numeric(),\n",
    "  stringsAsFactors = FALSE\n",
    ")"
   ]
  },
  {
   "cell_type": "code",
   "execution_count": null,
   "id": "9fadc886",
   "metadata": {},
   "outputs": [],
   "source": [
    "# Parameters for running in batches. Starting at 1 and ending with 15000 runs all of the genes for that disease.\n",
    "# Last run: \n",
    "batch_start <- 1\n",
    "batch_end <- 15001"
   ]
  },
  {
   "cell_type": "code",
   "execution_count": null,
   "id": "42d36886",
   "metadata": {
    "scrolled": true
   },
   "outputs": [],
   "source": [
    "# Code for executing the Colocalization Analysis. Process can take several hours for each disease, so be wary.\n",
    "# Check the GWAS dataset\n",
    "gwas_fail <- tryCatch({\n",
    "    check_dataset(gwas_list)\n",
    "}, error = function(cond) {\n",
    "    error_message <- paste(\"Error: disease file \", disease, \" has error: \\n \", cond, sep = \"\")\n",
    "    cat(error_message, file = error_file_path, append = TRUE)\n",
    "})\n",
    "\n",
    "if (inherits(gwas_fail, \"error\")) {\n",
    "    print(\"Error in GWAS dataset. Skipping further processing.\")\n",
    "} else {\n",
    "    curr_results <- list()\n",
    "    \n",
    "    # Iterate over eQTL files\n",
    "    for (i in batch_start:batch_end) {\n",
    "        if(i > length(eQTL_files)) {\n",
    "            break \n",
    "          }\n",
    "        \n",
    "        eQTL_file <- eQTL_files[i]\n",
    "        gene_name <- gsub(\".csv$\", \"\", basename(eQTL_file))  # Extract gene name from file name\n",
    "        eQTL_data <- read.csv(eQTL_file)\n",
    "\n",
    "        eQTL_list <- list()\n",
    "        eQTL_list$beta <- eQTL_data$beta\n",
    "        eQTL_list$varbeta <- eQTL_data$varbeta\n",
    "        eQTL_list$snp <- eQTL_data$snp\n",
    "        eQTL_list$position <- eQTL_data$pos\n",
    "        eQTL_list$type <- eQTL_data[, 'type'][1]\n",
    "        eQTL_list$N <- eQTL_data$N[0]\n",
    "        eQTL_list$MAF <- eQTL_data$MAF\n",
    "\n",
    "        # Check the eQTL dataset\n",
    "        eQTL_fail <- tryCatch({\n",
    "            suppressWarnings(check_dataset(eQTL_list))\n",
    "        }, error = function(cond) {\n",
    "            error_message <- paste(\"Error: eQTL file \", eQTL_file, \" has error: \\n \", cond$message, sep = \"\")\n",
    "            cat(error_message, file = error_file_path, append = TRUE)\n",
    "            return(NULL)  # Return NULL to indicate failure\n",
    "        })\n",
    "\n",
    "        if (inherits(eQTL_fail, \"error\")) {\n",
    "            next\n",
    "        }\n",
    "        \n",
    "        # Check for missing values in the \"type\" column\n",
    "        if (any(is.na(eQTL_data$type))) {\n",
    "            cat(\"Skipping processing for\", eQTL_file, \"due to missing values in 'type' column.\\n\")\n",
    "            next \n",
    "        }\n",
    "        \n",
    "        #THIS IS WHERE I FILTER THE DATASETS\n",
    "        common_snps <- intersect(gwas_list$snp, eQTL_list$snp)\n",
    "\n",
    "        # Filter both gwas_list and eQTL_list to only include these common SNPs\n",
    "        # And ensure they are in the same order\n",
    "\n",
    "        gwas_list_filtered <- list(\n",
    "          MAF = gwas_list$MAF[match(common_snps, gwas_list$snp)],\n",
    "          snp = common_snps,  # This ensures the order matches\n",
    "          position = gwas_list$position[match(common_snps, gwas_list$snp)],\n",
    "          N = gwas_list$N,\n",
    "          pvalues = gwas_list$pvalues[match(common_snps, gwas_list$snp)],\n",
    "          type = gwas_list$type,\n",
    "          s = gwas_list$s\n",
    "        )\n",
    "\n",
    "        # For eQTL_list - this part goes inside your loop where you prepare eQTL_list\n",
    "        eQTL_list_filtered <- list(\n",
    "          beta = eQTL_list$beta[match(common_snps, eQTL_list$snp)],\n",
    "          varbeta = eQTL_list$varbeta[match(common_snps, eQTL_list$snp)],\n",
    "          snp = common_snps,  \n",
    "          position = eQTL_list$position[match(common_snps, eQTL_list$snp)],\n",
    "          type = eQTL_list$type,\n",
    "          N = eQTL_list$N,\n",
    "          MAF = eQTL_list$MAF[match(common_snps, eQTL_list$snp)]\n",
    "        )\n",
    "        \n",
    "        coloc_results <- tryCatch({\n",
    "            coloc.abf(gwas_list_filtered, eQTL_list_filtered)\n",
    "        }, error = function(err) {\n",
    "            cat(\"Error in coloc.abf:\", conditionMessage(err), \"\\n\")\n",
    "            return(NULL)\n",
    "        })\n",
    "\n",
    "        # Check if coloc_results is NULL\n",
    "        if (is.null(coloc_results)) {\n",
    "            next\n",
    "        }\n",
    "        \n",
    "        temp_results <- data.frame(\n",
    "          gene_name = gene_name,\n",
    "          nsnps = coloc_results$summary[\"nsnps\"],\n",
    "          PP_H0_abf = coloc_results$summary[\"PP.H0.abf\"],\n",
    "          PP_H1_abf = coloc_results$summary[\"PP.H1.abf\"],\n",
    "          PP_H2_abf = coloc_results$summary[\"PP.H2.abf\"],\n",
    "          PP_H3_abf = coloc_results$summary[\"PP.H3.abf\"],\n",
    "          PP_H4_abf = coloc_results$summary[\"PP.H4.abf\"],\n",
    "          stringsAsFactors = FALSE\n",
    "        )\n",
    "        \n",
    "        results_df <- rbind(results_df, temp_results)\n",
    "        \n",
    "    }\n",
    "}"
   ]
  },
  {
   "cell_type": "code",
   "execution_count": null,
   "id": "591e312e",
   "metadata": {},
   "outputs": [],
   "source": [
    "row.names(results_df) <- NULL\n",
    "View(results_df)"
   ]
  },
  {
   "cell_type": "code",
   "execution_count": null,
   "id": "87d4a8bb",
   "metadata": {
    "scrolled": true
   },
   "outputs": [],
   "source": [
    "if (!requireNamespace(\"dplyr\", quietly = TRUE)) install.packages(\"dplyr\")\n",
    "library(dplyr)\n",
    "\n",
    "# Only unique rows based on gene_name\n",
    "results_df_unique <- results_df %>% distinct(gene_name, .keep_all = TRUE)\n",
    "\n",
    "head(results_df_unique)\n",
    "print(nrow(results_df_unique))"
   ]
  },
  {
   "cell_type": "code",
   "execution_count": null,
   "id": "b6e81d2c",
   "metadata": {},
   "outputs": [],
   "source": [
    "# Run this to save the data from memory into a file\n",
    "file_path <- \"results_df_unique.csv\"\n",
    "\n",
    "if(file.exists(file_path)) {\n",
    "  write.table(results_df_unique, file = file_path, sep = \",\", row.names = FALSE, col.names = FALSE, append = TRUE, quote = TRUE)\n",
    "} else {\n",
    "  write.table(results_df_unique, file = file_path, sep = \",\", row.names = FALSE, col.names = TRUE, append = FALSE, quote = TRUE)\n",
    "}\n",
    "\n",
    "print('done')"
   ]
  },
  {
   "cell_type": "code",
   "execution_count": null,
   "id": "ce94e174",
   "metadata": {},
   "outputs": [],
   "source": [
    "# No need to run this -  only for testing purposes and reconfiguring batch if process dies\n",
    "file_path <- \"results_df.csv\"\n",
    "\n",
    "if(file.exists(file_path)) {\n",
    "  write.table(results_df, file = file_path, sep = \",\", row.names = FALSE, col.names = FALSE, append = TRUE, quote = TRUE)\n",
    "} else {\n",
    "  write.table(results_df, file = file_path, sep = \",\", row.names = FALSE, col.names = TRUE, append = FALSE, quote = TRUE)\n",
    "}"
   ]
  },
  {
   "cell_type": "code",
   "execution_count": null,
   "id": "d33abe91",
   "metadata": {},
   "outputs": [],
   "source": [
    "results_df <- read.csv(\"results_df.csv\")\n",
    "\n",
    "head(results_df)"
   ]
  },
  {
   "cell_type": "code",
   "execution_count": null,
   "id": "57b3c933",
   "metadata": {},
   "outputs": [],
   "source": [
    "# Unique gene names\n",
    "unique_genes <- unique(results_df$gene_name)\n",
    "\n",
    "print(length(unique_genes))"
   ]
  },
  {
   "cell_type": "code",
   "execution_count": null,
   "id": "01a186dd",
   "metadata": {},
   "outputs": [],
   "source": []
  }
 ],
 "metadata": {
  "kernelspec": {
   "display_name": "R",
   "language": "R",
   "name": "ir"
  },
  "language_info": {
   "codemirror_mode": "r",
   "file_extension": ".r",
   "mimetype": "text/x-r-source",
   "name": "R",
   "pygments_lexer": "r",
   "version": "4.1.0"
  }
 },
 "nbformat": 4,
 "nbformat_minor": 5
}
