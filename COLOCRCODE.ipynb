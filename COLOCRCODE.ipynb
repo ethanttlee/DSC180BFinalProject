{
 "cells": [
  {
   "cell_type": "code",
   "execution_count": null,
   "id": "3be5f9d9",
   "metadata": {},
   "outputs": [],
   "source": [
    "install.packages(\"coloc\")"
   ]
  },
  {
   "cell_type": "code",
   "execution_count": null,
   "id": "39032887",
   "metadata": {},
   "outputs": [],
   "source": [
    "install.packages(\"rlang\")"
   ]
  },
  {
   "cell_type": "code",
   "execution_count": null,
   "id": "d5ec09a5",
   "metadata": {},
   "outputs": [],
   "source": [
    "library(coloc)"
   ]
  },
  {
   "cell_type": "code",
   "execution_count": null,
   "id": "82f4d5bd",
   "metadata": {},
   "outputs": [],
   "source": [
    "# Set the disease information\n",
    "disease <- \"essential_hypertension\"\n",
    "disease_file <- \"GCST010774_buildGRCh37.tsv\"\n",
    "sample_size <- 282871\n",
    "case_control_prop <- 0.271\n",
    "eQTL_files <- list.files(path=\"eQTL_subsets\", pattern='ENSG.*', full.names = TRUE)"
   ]
  },
  {
   "cell_type": "code",
   "execution_count": null,
   "id": "13d74814",
   "metadata": {},
   "outputs": [],
   "source": [
    "error_file_path <- \"coloc_error_log.txt\"\n",
    "result_matrix <- list()\n",
    "\n",
    "# Read the GWAS data for the first disease\n",
    "# curr_gwas <- na.omit(read.csv(paste(\"gwas_data/\", disease, \".tsv\", sep = \"\"), \n",
    "curr_gwas <- na.omit(read.csv(paste(\"GCST010774_buildGRCh37.tsv\", sep = \"\"), \n",
    "                              sep = '\\t', header = TRUE,\n",
    "                              colClasses = c(\"character\", \"double\", \"NULL\", \"double\", \"NULL\",\n",
    "                                             \"NULL\", \"double\", \"NULL\", \"NULL\", \"NULL\",\n",
    "                                             \"NULL\", \"NULL\", \"NULL\", \"NULL\", \"NULL\",\n",
    "                                             \"NULL\", \"NULL\", \"NULL\", \"NULL\")))"
   ]
  },
  {
   "cell_type": "code",
   "execution_count": null,
   "id": "fdd82536",
   "metadata": {},
   "outputs": [],
   "source": [
    "# Remove duplicate SNPs\n",
    "curr_gwas <- curr_gwas[!duplicated(curr_gwas[, \"variant_id\"]), ]"
   ]
  },
  {
   "cell_type": "code",
   "execution_count": null,
   "id": "147bd0fb",
   "metadata": {},
   "outputs": [],
   "source": [
    "print(nrow(curr_gwas))"
   ]
  },
  {
   "cell_type": "code",
   "execution_count": null,
   "id": "9f3ca484",
   "metadata": {},
   "outputs": [],
   "source": [
    "# Define the genome-wide significance threshold\n",
    "# p_value_threshold <- 5e-2\n",
    "p_value_threshold <- 5e-2\n",
    "\n",
    "# Filter the dataframe to include only SNPs with p-values below the threshold\n",
    "filtered_gwas <- curr_gwas[curr_gwas$p_value < p_value_threshold, ]"
   ]
  },
  {
   "cell_type": "code",
   "execution_count": null,
   "id": "a5dd7efb",
   "metadata": {},
   "outputs": [],
   "source": [
    "print(nrow(filtered_gwas))"
   ]
  },
  {
   "cell_type": "code",
   "execution_count": null,
   "id": "00e9e9bc",
   "metadata": {},
   "outputs": [],
   "source": [
    "# Prepare the GWAS list\n",
    "gwas_list <- list()\n",
    "gwas_list$MAF <- filtered_gwas$MAF_calculated_from_dosage_data\n",
    "gwas_list$snp <- filtered_gwas$variant_id\n",
    "gwas_list$position <- filtered_gwas$base_pair_location\n",
    "gwas_list$N <- sample_size\n",
    "gwas_list$pvalues <- filtered_gwas$p_value\n",
    "gwas_list$type <- \"cc\"\n",
    "gwas_list$s <- case_control_prop"
   ]
  },
  {
   "cell_type": "code",
   "execution_count": null,
   "id": "9b1c99d7",
   "metadata": {},
   "outputs": [],
   "source": [
    "print(gwas_list)"
   ]
  },
  {
   "cell_type": "code",
   "execution_count": null,
   "id": "958c6355",
   "metadata": {},
   "outputs": [],
   "source": [
    "# Initialize an empty data frame to store results with the appropriate columns\n",
    "results_df <- data.frame(\n",
    "  gene_name = character(),\n",
    "  nsnps = numeric(),\n",
    "  PP_H0_abf = numeric(),\n",
    "  PP_H1_abf = numeric(),\n",
    "  PP_H2_abf = numeric(),\n",
    "  PP_H3_abf = numeric(),\n",
    "  PP_H4_abf = numeric(),\n",
    "  stringsAsFactors = FALSE\n",
    ")"
   ]
  },
  {
   "cell_type": "code",
   "execution_count": null,
   "id": "9fadc886",
   "metadata": {},
   "outputs": [],
   "source": [
    "# Parameters for running\n",
    "# Last run: \n",
    "batch_start <- 13002\n",
    "batch_end <- 15001\n",
    "# batch_start <- 1\n",
    "# batch_end <- 21"
   ]
  },
  {
   "cell_type": "code",
   "execution_count": null,
   "id": "42d36886",
   "metadata": {
    "scrolled": false
   },
   "outputs": [],
   "source": [
    "# Check the GWAS dataset\n",
    "gwas_fail <- tryCatch({\n",
    "    check_dataset(gwas_list)\n",
    "}, error = function(cond) {\n",
    "    error_message <- paste(\"Error: disease file \", disease, \" has error: \\n \", cond, sep = \"\")\n",
    "    cat(error_message, file = error_file_path, append = TRUE)\n",
    "})\n",
    "\n",
    "if (inherits(gwas_fail, \"error\")) {\n",
    "    print(\"Error in GWAS dataset. Skipping further processing.\")\n",
    "} else {\n",
    "#     print(paste(\"Processed disease file \", disease_file))\n",
    "    \n",
    "    # Initialize a list to store results\n",
    "    curr_results <- list()\n",
    "    \n",
    "    # Iterate over eQTL files\n",
    "    for (i in batch_start:batch_end) {\n",
    "        if(i > length(eQTL_files)) {\n",
    "            break \n",
    "          }\n",
    "        \n",
    "        eQTL_file <- eQTL_files[i]\n",
    "        gene_name <- gsub(\".csv$\", \"\", basename(eQTL_file))  # Extract gene name from file name\n",
    "        eQTL_data <- read.csv(eQTL_file)\n",
    "\n",
    "        eQTL_list <- list()\n",
    "        eQTL_list$beta <- eQTL_data$beta\n",
    "        eQTL_list$varbeta <- eQTL_data$varbeta\n",
    "        eQTL_list$snp <- eQTL_data$snp\n",
    "        eQTL_list$position <- eQTL_data$pos\n",
    "        eQTL_list$type <- eQTL_data[, 'type'][1]\n",
    "        eQTL_list$N <- eQTL_data$N[0]\n",
    "        eQTL_list$MAF <- eQTL_data$MAF\n",
    "\n",
    "        # Check the eQTL dataset\n",
    "        eQTL_fail <- tryCatch({\n",
    "            suppressWarnings(check_dataset(eQTL_list))\n",
    "        }, error = function(cond) {\n",
    "            error_message <- paste(\"Error: eQTL file \", eQTL_file, \" has error: \\n \", cond$message, sep = \"\")\n",
    "            cat(error_message, file = error_file_path, append = TRUE)\n",
    "            return(NULL)  # Return NULL to indicate failure\n",
    "        })\n",
    "\n",
    "        if (inherits(eQTL_fail, \"error\")) {\n",
    "            # Skip further processing if there was an issue with the dataset\n",
    "            next\n",
    "        }\n",
    "        \n",
    "        # Check for missing values in the \"type\" column\n",
    "        if (any(is.na(eQTL_data$type))) {\n",
    "            cat(\"Skipping processing for\", eQTL_file, \"due to missing values in 'type' column.\\n\")\n",
    "            next  # Move to the next iteration\n",
    "        }\n",
    "        \n",
    "        #THIS IS WHERE I FILTER THE DATASETS\n",
    "        common_snps <- intersect(gwas_list$snp, eQTL_list$snp)\n",
    "#         print(length(common_snps))\n",
    "#         print(length(eQTL_list$snp))\n",
    "\n",
    "        # Filter both gwas_list and eQTL_list to only include these common SNPs\n",
    "        # And ensure they are in the same order\n",
    "\n",
    "        # For gwas_list - Assuming it's already filtered globally, just reorder based on common SNPs\n",
    "        gwas_list_filtered <- list(\n",
    "          MAF = gwas_list$MAF[match(common_snps, gwas_list$snp)],\n",
    "          snp = common_snps,  # This ensures the order matches\n",
    "          position = gwas_list$position[match(common_snps, gwas_list$snp)],\n",
    "          N = gwas_list$N,\n",
    "          pvalues = gwas_list$pvalues[match(common_snps, gwas_list$snp)],\n",
    "          type = gwas_list$type,\n",
    "          s = gwas_list$s\n",
    "        )\n",
    "\n",
    "        # For eQTL_list - this part goes inside your loop where you prepare eQTL_list\n",
    "        eQTL_list_filtered <- list(\n",
    "          beta = eQTL_list$beta[match(common_snps, eQTL_list$snp)],\n",
    "          varbeta = eQTL_list$varbeta[match(common_snps, eQTL_list$snp)],\n",
    "          snp = common_snps,  # This ensures the order matches\n",
    "          position = eQTL_list$position[match(common_snps, eQTL_list$snp)],\n",
    "          type = eQTL_list$type,\n",
    "          N = eQTL_list$N,\n",
    "          MAF = eQTL_list$MAF[match(common_snps, eQTL_list$snp)]\n",
    "        )\n",
    "        \n",
    "        # Run coloc.abf inside a tryCatch block\n",
    "        coloc_results <- tryCatch({\n",
    "#             coloc.abf(gwas_list, eQTL_list)\n",
    "            coloc.abf(gwas_list_filtered, eQTL_list_filtered)\n",
    "        }, error = function(err) {\n",
    "            # Print an error message\n",
    "            cat(\"Error in coloc.abf:\", conditionMessage(err), \"\\n\")\n",
    "            # Return NULL to indicate failure\n",
    "            return(NULL)\n",
    "        })\n",
    "\n",
    "        # Check if coloc_results is NULL (indicating an error occurred)\n",
    "        if (is.null(coloc_results)) {\n",
    "            # Skip further processing if there was an issue with coloc.abf\n",
    "            next\n",
    "        }\n",
    "        \n",
    "        temp_results <- data.frame(\n",
    "          gene_name = gene_name,\n",
    "          nsnps = coloc_results$summary[\"nsnps\"],\n",
    "          PP_H0_abf = coloc_results$summary[\"PP.H0.abf\"],\n",
    "          PP_H1_abf = coloc_results$summary[\"PP.H1.abf\"],\n",
    "          PP_H2_abf = coloc_results$summary[\"PP.H2.abf\"],\n",
    "          PP_H3_abf = coloc_results$summary[\"PP.H3.abf\"],\n",
    "          PP_H4_abf = coloc_results$summary[\"PP.H4.abf\"],\n",
    "          stringsAsFactors = FALSE\n",
    "        )\n",
    "        \n",
    "        # Append temp_results to results_df\n",
    "        results_df <- rbind(results_df, temp_results)\n",
    "        \n",
    "    }\n",
    "}"
   ]
  },
  {
   "cell_type": "code",
   "execution_count": null,
   "id": "4263c0ec",
   "metadata": {},
   "outputs": [],
   "source": [
    "row.names(results_df) <- NULL\n",
    "View(results_df)"
   ]
  },
  {
   "cell_type": "code",
   "execution_count": null,
   "id": "f5180b1d",
   "metadata": {
    "scrolled": true
   },
   "outputs": [],
   "source": [
    "# Ensure the dplyr package is installed and loaded\n",
    "if (!requireNamespace(\"dplyr\", quietly = TRUE)) install.packages(\"dplyr\")\n",
    "library(dplyr)\n",
    "\n",
    "# Use distinct() to keep only unique rows based on gene_name\n",
    "results_df_unique <- results_df %>% distinct(gene_name, .keep_all = TRUE)\n",
    "\n",
    "# View the first few rows of the updated dataframe\n",
    "head(results_df_unique)\n",
    "print(nrow(results_df_unique))"
   ]
  },
  {
   "cell_type": "code",
   "execution_count": null,
   "id": "132d1c3f",
   "metadata": {},
   "outputs": [],
   "source": [
    "# Specify the file path\n",
    "file_path <- \"results_df_unique.csv\"\n",
    "\n",
    "# Check if the file already exists to determine if the header should be included\n",
    "if(file.exists(file_path)) {\n",
    "  # File exists, append without header\n",
    "  # Note: write.table is used here with sep=\",\" to produce CSV formatted output\n",
    "  write.table(results_df_unique, file = file_path, sep = \",\", row.names = FALSE, col.names = FALSE, append = TRUE, quote = TRUE)\n",
    "} else {\n",
    "  # File does not exist, include header and do not append (implicitly creates a new file)\n",
    "  write.table(results_df_unique, file = file_path, sep = \",\", row.names = FALSE, col.names = TRUE, append = FALSE, quote = TRUE)\n",
    "}\n",
    "\n",
    "print('done')"
   ]
  },
  {
   "cell_type": "code",
   "execution_count": null,
   "id": "ce94e174",
   "metadata": {},
   "outputs": [],
   "source": [
    "# Specify the file path\n",
    "file_path <- \"results_df.csv\"\n",
    "\n",
    "# Check if the file already exists to determine if the header should be included\n",
    "if(file.exists(file_path)) {\n",
    "  # File exists, append without header\n",
    "  # Note: write.table is used here with sep=\",\" to produce CSV formatted output\n",
    "  write.table(results_df, file = file_path, sep = \",\", row.names = FALSE, col.names = FALSE, append = TRUE, quote = TRUE)\n",
    "} else {\n",
    "  # File does not exist, include header and do not append (implicitly creates a new file)\n",
    "  write.table(results_df, file = file_path, sep = \",\", row.names = FALSE, col.names = TRUE, append = FALSE, quote = TRUE)\n",
    "}"
   ]
  },
  {
   "cell_type": "code",
   "execution_count": null,
   "id": "d33abe91",
   "metadata": {},
   "outputs": [],
   "source": [
    "# Read the dataframe from a CSV file\n",
    "results_df <- read.csv(\"results_df.csv\")\n",
    "\n",
    "# Display the first few rows of the dataframe to verify it's loaded correctly\n",
    "head(results_df)"
   ]
  },
  {
   "cell_type": "code",
   "execution_count": null,
   "id": "7d3a6888",
   "metadata": {},
   "outputs": [],
   "source": [
    "# List unique gene names\n",
    "unique_genes <- unique(results_df$gene_name)\n",
    "\n",
    "# Print the unique genes\n",
    "print(length(unique_genes))"
   ]
  },
  {
   "cell_type": "code",
   "execution_count": null,
   "id": "0925c32f",
   "metadata": {},
   "outputs": [],
   "source": []
  }
 ],
 "metadata": {
  "kernelspec": {
   "display_name": "R",
   "language": "R",
   "name": "ir"
  },
  "language_info": {
   "codemirror_mode": "r",
   "file_extension": ".r",
   "mimetype": "text/x-r-source",
   "name": "R",
   "pygments_lexer": "r",
   "version": "4.1.0"
  }
 },
 "nbformat": 4,
 "nbformat_minor": 5
}
